{
  "nbformat": 4,
  "nbformat_minor": 0,
  "metadata": {
    "colab": {
      "provenance": [],
      "toc_visible": true,
      "collapsed_sections": [
        "G-9R4dwK6zP9",
        "9gCZuWT2MEfA",
        "p2dQEqawHmSk",
        "2fVtO2xva7GD"
      ]
    },
    "kernelspec": {
      "name": "python3",
      "display_name": "Python 3"
    },
    "language_info": {
      "name": "python"
    }
  },
  "cells": [
    {
      "cell_type": "markdown",
      "source": [
        "# Prep"
      ],
      "metadata": {
        "id": "-nxGcGahvap1"
      }
    },
    {
      "cell_type": "markdown",
      "source": [
        "*Install required packages before running the notebook*"
      ],
      "metadata": {
        "id": "8GutQguz9HQQ"
      }
    },
    {
      "cell_type": "code",
      "source": [
        "! pip install yfinance\n",
        "! pip install requests_cache\n",
        "! pip install cvxpy\n",
        "! pip install cvxopt\n",
        "! pip install PyPortfolioOpt"
      ],
      "metadata": {
        "id": "aSCrKaofggvZ",
        "colab": {
          "base_uri": "https://localhost:8080/"
        },
        "outputId": "a5a2c950-35f4-4613-ce6f-ba242abac351"
      },
      "execution_count": 3,
      "outputs": [
        {
          "output_type": "stream",
          "name": "stdout",
          "text": [
            "Requirement already satisfied: yfinance in /usr/local/lib/python3.10/dist-packages (0.2.28)\n",
            "Requirement already satisfied: pandas>=1.3.0 in /usr/local/lib/python3.10/dist-packages (from yfinance) (1.5.3)\n",
            "Requirement already satisfied: numpy>=1.16.5 in /usr/local/lib/python3.10/dist-packages (from yfinance) (1.23.5)\n",
            "Requirement already satisfied: requests>=2.31 in /usr/local/lib/python3.10/dist-packages (from yfinance) (2.31.0)\n",
            "Requirement already satisfied: multitasking>=0.0.7 in /usr/local/lib/python3.10/dist-packages (from yfinance) (0.0.11)\n",
            "Requirement already satisfied: lxml>=4.9.1 in /usr/local/lib/python3.10/dist-packages (from yfinance) (4.9.3)\n",
            "Requirement already satisfied: appdirs>=1.4.4 in /usr/local/lib/python3.10/dist-packages (from yfinance) (1.4.4)\n",
            "Requirement already satisfied: pytz>=2022.5 in /usr/local/lib/python3.10/dist-packages (from yfinance) (2023.3)\n",
            "Requirement already satisfied: frozendict>=2.3.4 in /usr/local/lib/python3.10/dist-packages (from yfinance) (2.3.8)\n",
            "Requirement already satisfied: beautifulsoup4>=4.11.1 in /usr/local/lib/python3.10/dist-packages (from yfinance) (4.11.2)\n",
            "Requirement already satisfied: html5lib>=1.1 in /usr/local/lib/python3.10/dist-packages (from yfinance) (1.1)\n",
            "Requirement already satisfied: soupsieve>1.2 in /usr/local/lib/python3.10/dist-packages (from beautifulsoup4>=4.11.1->yfinance) (2.4.1)\n",
            "Requirement already satisfied: six>=1.9 in /usr/local/lib/python3.10/dist-packages (from html5lib>=1.1->yfinance) (1.16.0)\n",
            "Requirement already satisfied: webencodings in /usr/local/lib/python3.10/dist-packages (from html5lib>=1.1->yfinance) (0.5.1)\n",
            "Requirement already satisfied: python-dateutil>=2.8.1 in /usr/local/lib/python3.10/dist-packages (from pandas>=1.3.0->yfinance) (2.8.2)\n",
            "Requirement already satisfied: charset-normalizer<4,>=2 in /usr/local/lib/python3.10/dist-packages (from requests>=2.31->yfinance) (3.2.0)\n",
            "Requirement already satisfied: idna<4,>=2.5 in /usr/local/lib/python3.10/dist-packages (from requests>=2.31->yfinance) (3.4)\n",
            "Requirement already satisfied: urllib3<3,>=1.21.1 in /usr/local/lib/python3.10/dist-packages (from requests>=2.31->yfinance) (2.0.4)\n",
            "Requirement already satisfied: certifi>=2017.4.17 in /usr/local/lib/python3.10/dist-packages (from requests>=2.31->yfinance) (2023.7.22)\n",
            "Collecting requests_cache\n",
            "  Downloading requests_cache-1.1.0-py3-none-any.whl (60 kB)\n",
            "\u001b[2K     \u001b[90m━━━━━━━━━━━━━━━━━━━━━━━━━━━━━━━━━━━━━━━\u001b[0m \u001b[32m60.1/60.1 kB\u001b[0m \u001b[31m463.2 kB/s\u001b[0m eta \u001b[36m0:00:00\u001b[0m\n",
            "\u001b[?25hRequirement already satisfied: attrs>=21.2 in /usr/local/lib/python3.10/dist-packages (from requests_cache) (23.1.0)\n",
            "Collecting cattrs>=22.2 (from requests_cache)\n",
            "  Downloading cattrs-23.1.2-py3-none-any.whl (50 kB)\n",
            "\u001b[2K     \u001b[90m━━━━━━━━━━━━━━━━━━━━━━━━━━━━━━━━━━━━━━━━\u001b[0m \u001b[32m50.8/50.8 kB\u001b[0m \u001b[31m1.9 MB/s\u001b[0m eta \u001b[36m0:00:00\u001b[0m\n",
            "\u001b[?25hRequirement already satisfied: platformdirs>=2.5 in /usr/local/lib/python3.10/dist-packages (from requests_cache) (3.10.0)\n",
            "Requirement already satisfied: requests>=2.22 in /usr/local/lib/python3.10/dist-packages (from requests_cache) (2.31.0)\n",
            "Collecting url-normalize>=1.4 (from requests_cache)\n",
            "  Downloading url_normalize-1.4.3-py2.py3-none-any.whl (6.8 kB)\n",
            "Requirement already satisfied: urllib3>=1.25.5 in /usr/local/lib/python3.10/dist-packages (from requests_cache) (2.0.4)\n",
            "Requirement already satisfied: exceptiongroup in /usr/local/lib/python3.10/dist-packages (from cattrs>=22.2->requests_cache) (1.1.3)\n",
            "Requirement already satisfied: typing_extensions>=4.1.0 in /usr/local/lib/python3.10/dist-packages (from cattrs>=22.2->requests_cache) (4.7.1)\n",
            "Requirement already satisfied: charset-normalizer<4,>=2 in /usr/local/lib/python3.10/dist-packages (from requests>=2.22->requests_cache) (3.2.0)\n",
            "Requirement already satisfied: idna<4,>=2.5 in /usr/local/lib/python3.10/dist-packages (from requests>=2.22->requests_cache) (3.4)\n",
            "Requirement already satisfied: certifi>=2017.4.17 in /usr/local/lib/python3.10/dist-packages (from requests>=2.22->requests_cache) (2023.7.22)\n",
            "Requirement already satisfied: six in /usr/local/lib/python3.10/dist-packages (from url-normalize>=1.4->requests_cache) (1.16.0)\n",
            "Installing collected packages: url-normalize, cattrs, requests_cache\n",
            "Successfully installed cattrs-23.1.2 requests_cache-1.1.0 url-normalize-1.4.3\n",
            "Requirement already satisfied: cvxpy in /usr/local/lib/python3.10/dist-packages (1.3.2)\n",
            "Requirement already satisfied: osqp>=0.4.1 in /usr/local/lib/python3.10/dist-packages (from cvxpy) (0.6.2.post8)\n",
            "Requirement already satisfied: ecos>=2 in /usr/local/lib/python3.10/dist-packages (from cvxpy) (2.0.12)\n",
            "Requirement already satisfied: scs>=1.1.6 in /usr/local/lib/python3.10/dist-packages (from cvxpy) (3.2.3)\n",
            "Requirement already satisfied: numpy>=1.15 in /usr/local/lib/python3.10/dist-packages (from cvxpy) (1.23.5)\n",
            "Requirement already satisfied: scipy>=1.1.0 in /usr/local/lib/python3.10/dist-packages (from cvxpy) (1.10.1)\n",
            "Requirement already satisfied: setuptools>65.5.1 in /usr/local/lib/python3.10/dist-packages (from cvxpy) (67.7.2)\n",
            "Requirement already satisfied: qdldl in /usr/local/lib/python3.10/dist-packages (from osqp>=0.4.1->cvxpy) (0.1.7.post0)\n",
            "Requirement already satisfied: cvxopt in /usr/local/lib/python3.10/dist-packages (1.3.2)\n",
            "Collecting PyPortfolioOpt\n",
            "  Downloading pyportfolioopt-1.5.5-py3-none-any.whl (61 kB)\n",
            "\u001b[2K     \u001b[90m━━━━━━━━━━━━━━━━━━━━━━━━━━━━━━━━━━━━━━━\u001b[0m \u001b[32m61.9/61.9 kB\u001b[0m \u001b[31m991.9 kB/s\u001b[0m eta \u001b[36m0:00:00\u001b[0m\n",
            "\u001b[?25hRequirement already satisfied: cvxpy<2.0.0,>=1.1.19 in /usr/local/lib/python3.10/dist-packages (from PyPortfolioOpt) (1.3.2)\n",
            "Requirement already satisfied: numpy<2.0.0,>=1.22.4 in /usr/local/lib/python3.10/dist-packages (from PyPortfolioOpt) (1.23.5)\n",
            "Requirement already satisfied: pandas>=0.19 in /usr/local/lib/python3.10/dist-packages (from PyPortfolioOpt) (1.5.3)\n",
            "Requirement already satisfied: scipy<2.0,>=1.3 in /usr/local/lib/python3.10/dist-packages (from PyPortfolioOpt) (1.10.1)\n",
            "Requirement already satisfied: osqp>=0.4.1 in /usr/local/lib/python3.10/dist-packages (from cvxpy<2.0.0,>=1.1.19->PyPortfolioOpt) (0.6.2.post8)\n",
            "Requirement already satisfied: ecos>=2 in /usr/local/lib/python3.10/dist-packages (from cvxpy<2.0.0,>=1.1.19->PyPortfolioOpt) (2.0.12)\n",
            "Requirement already satisfied: scs>=1.1.6 in /usr/local/lib/python3.10/dist-packages (from cvxpy<2.0.0,>=1.1.19->PyPortfolioOpt) (3.2.3)\n",
            "Requirement already satisfied: setuptools>65.5.1 in /usr/local/lib/python3.10/dist-packages (from cvxpy<2.0.0,>=1.1.19->PyPortfolioOpt) (67.7.2)\n",
            "Requirement already satisfied: python-dateutil>=2.8.1 in /usr/local/lib/python3.10/dist-packages (from pandas>=0.19->PyPortfolioOpt) (2.8.2)\n",
            "Requirement already satisfied: pytz>=2020.1 in /usr/local/lib/python3.10/dist-packages (from pandas>=0.19->PyPortfolioOpt) (2023.3)\n",
            "Requirement already satisfied: qdldl in /usr/local/lib/python3.10/dist-packages (from osqp>=0.4.1->cvxpy<2.0.0,>=1.1.19->PyPortfolioOpt) (0.1.7.post0)\n",
            "Requirement already satisfied: six>=1.5 in /usr/local/lib/python3.10/dist-packages (from python-dateutil>=2.8.1->pandas>=0.19->PyPortfolioOpt) (1.16.0)\n",
            "Installing collected packages: PyPortfolioOpt\n",
            "Successfully installed PyPortfolioOpt-1.5.5\n"
          ]
        }
      ]
    },
    {
      "cell_type": "markdown",
      "source": [
        "Import packages/libraries and mount google drive"
      ],
      "metadata": {
        "id": "4ANTqfgNKbmj"
      }
    },
    {
      "cell_type": "code",
      "source": [
        "import pandas as pd\n",
        "import numpy as np\n",
        "import scipy.stats as si\n",
        "import yfinance as yf\n",
        "import requests_cache\n",
        "import datetime as dt\n",
        "import seaborn as sns\n",
        "import matplotlib.pyplot as plt\n",
        "import cvxpy as cvx\n",
        "import warnings\n",
        "from scipy.stats import norm\n",
        "from datetime import datetime\n",
        "from copy import deepcopy\n",
        "from tabulate import tabulate\n",
        "from google.colab import drive\n",
        "\n",
        "drive.mount('/content/drive')\n",
        "\n",
        "warnings.filterwarnings('ignore')\n",
        "\n",
        "%matplotlib inline"
      ],
      "metadata": {
        "id": "j6hqbsQ37VK_",
        "colab": {
          "base_uri": "https://localhost:8080/"
        },
        "outputId": "3c007ba2-668a-4617-f0f8-c425848ddd40"
      },
      "execution_count": 4,
      "outputs": [
        {
          "output_type": "stream",
          "name": "stdout",
          "text": [
            "Mounted at /content/drive\n"
          ]
        }
      ]
    },
    {
      "cell_type": "markdown",
      "source": [
        "\n",
        "---\n",
        "# Question 1 (3 marks)\n",
        "### Basic analysis and visualizations of the portfolio"
      ],
      "metadata": {
        "id": "G-9R4dwK6zP9"
      }
    },
    {
      "cell_type": "markdown",
      "source": [
        "**(a) Retrieve the daily prices of the 4 cryptos online (2020-2-1 to 2022-2-1) and calculate the daily log returns. (The same process as how we retrieved the stock prices in the tutorial.)**"
      ],
      "metadata": {
        "id": "GGEZBgnd7FPu"
      }
    },
    {
      "cell_type": "markdown",
      "source": [
        "Define helper function to download data and compute log returns."
      ],
      "metadata": {
        "id": "xLxHG-xN8wWP"
      }
    },
    {
      "cell_type": "code",
      "execution_count": 5,
      "metadata": {
        "id": "uyGbBxp36FYm"
      },
      "outputs": [],
      "source": [
        "session = requests_cache.CachedSession(cache_name='cache', backend='sqlite')\n",
        "\n",
        "session.headers = {\n",
        "    'User-Agent': 'Mozilla/5.0 (X11; Ubuntu; Linux x86_64; rv:89.0) Gecko/20100101 Firefox/89.0',\n",
        "    'Accept': 'application/json;charset=utf-8'\n",
        "}\n",
        "\n",
        "def get_data_for_multiple_stocks(\n",
        "    tickers: list[str],\n",
        "    start_date: str,\n",
        "    end_date: str,\n",
        ") -> dict[list, pd.DataFrame]:\n",
        "    \"\"\"\n",
        "    Function to download data for specfied tickers and time period.\n",
        "\n",
        "    :param tickers: List of tickers to download data for\n",
        "    :param start_date: Date from which to start pulling data\n",
        "    :param end_date: Date at which to stop pulling data\n",
        "    :return\n",
        "        Dictionary containing financial data for specified tickers and time period\n",
        "        key - ticker name, value - pandas dataframe containing data for that ticker\n",
        "    \"\"\"\n",
        "    stocks = dict()\n",
        "    format = '%Y-%m-%d'\n",
        "\n",
        "    for ticker in tickers:\n",
        "        s = yf.download(\n",
        "            ticker,\n",
        "            dt.datetime.strptime(start_date, format),\n",
        "            dt.datetime.strptime(end_date, format)\n",
        "        ).reset_index()\n",
        "\n",
        "        s['log_ret'] = np.log(s['Adj Close'] / s['Adj Close'].shift(1))  # log_ret = log10(Pt / Pt-1)\n",
        "        s['perc_ret'] = (s['Adj Close'] / s['Adj Close'].shift(1)) - 1  # perc_ret = Pt / Pt-1 - 1\n",
        "\n",
        "        s.rename(columns={'Date': 'date', 'Adj Close': 'adj_close', 'Volume': 'volume'}, inplace=True)\n",
        "\n",
        "        s = s[['date', 'adj_close', 'volume', 'log_ret', 'perc_ret']]\n",
        "\n",
        "        stocks[ticker] = s\n",
        "\n",
        "    print(f'Fetched financial data for {\", \".join(tickers)} from {start_date} to {end_date}.')\n",
        "\n",
        "    return stocks"
      ]
    },
    {
      "cell_type": "markdown",
      "source": [
        "Pull financial data for the following tickers:\n",
        "* BTC-USD\n",
        "* ETH-USD\n",
        "* DOGE-USD\n",
        "* MATIC-USD\n",
        "\n",
        "Time period: 2020-02-01 to 2022-02-01"
      ],
      "metadata": {
        "id": "zeND3fREAUHs"
      }
    },
    {
      "cell_type": "code",
      "source": [
        "tickers_to_pull = ['BTC-USD', 'ETH-USD', 'DOGE-USD', 'MATIC-USD']\n",
        "start_date, end_date = '2020-02-01', '2022-02-02'\n",
        "\n",
        "og_data = get_data_for_multiple_stocks(\n",
        "    tickers=tickers_to_pull,\n",
        "    start_date=start_date,\n",
        "    end_date=end_date\n",
        ")"
      ],
      "metadata": {
        "id": "8akFO8Mz-Ar9",
        "colab": {
          "base_uri": "https://localhost:8080/"
        },
        "outputId": "acf926b4-b2d7-46a7-b23f-b5b2148bd984"
      },
      "execution_count": 6,
      "outputs": [
        {
          "output_type": "stream",
          "name": "stdout",
          "text": [
            "[*********************100%%**********************]  1 of 1 completed\n",
            "[*********************100%%**********************]  1 of 1 completed\n",
            "[*********************100%%**********************]  1 of 1 completed\n",
            "[*********************100%%**********************]  1 of 1 completed\n",
            "Fetched financial data for BTC-USD, ETH-USD, DOGE-USD, MATIC-USD from 2020-02-01 to 2022-02-02.\n"
          ]
        }
      ]
    },
    {
      "cell_type": "markdown",
      "source": [
        "Preview data for one of the tickers, BTC-USD"
      ],
      "metadata": {
        "id": "HZMlGogtD8h4"
      }
    },
    {
      "cell_type": "code",
      "source": [
        "og_data['BTC-USD'].head(), og_data['BTC-USD'].shape"
      ],
      "metadata": {
        "id": "AZT4NJPqCah3",
        "colab": {
          "base_uri": "https://localhost:8080/"
        },
        "outputId": "a7afde32-df2d-4290-a55d-3b2a0ca1b35a"
      },
      "execution_count": 7,
      "outputs": [
        {
          "output_type": "execute_result",
          "data": {
            "text/plain": [
              "(        date    adj_close       volume   log_ret  perc_ret\n",
              " 0 2020-02-01  9392.875000  25922656496       NaN       NaN\n",
              " 1 2020-02-02  9344.365234  30835736946 -0.005178 -0.005165\n",
              " 2 2020-02-03  9293.521484  30934096509 -0.005456 -0.005441\n",
              " 3 2020-02-04  9180.962891  29893183716 -0.012185 -0.012112\n",
              " 4 2020-02-05  9613.423828  35222060874  0.046028  0.047104,\n",
              " (732, 5))"
            ]
          },
          "metadata": {},
          "execution_count": 7
        }
      ]
    },
    {
      "cell_type": "markdown",
      "source": [
        "**(b) For this period, plot the asset return correlations using a matrix heatmap, and plot the annualized Sharpe ratios of the four crypto assets using a bar chat.**"
      ],
      "metadata": {
        "id": "IdTgqq1DKNb7"
      }
    },
    {
      "cell_type": "markdown",
      "source": [
        "Prepare asset returns data for plotting"
      ],
      "metadata": {
        "id": "muShkzn3ke80"
      }
    },
    {
      "cell_type": "code",
      "source": [
        "og_data_b = deepcopy(og_data)\n",
        "log_ret_df = pd.DataFrame()\n",
        "log_ret_df['date'] = og_data_b['BTC-USD']['date']\n",
        "for kv_pair in og_data_b.items():\n",
        "    ticker, df = kv_pair\n",
        "    df.rename(columns={'log_ret': f'{ticker}'}, inplace=True)\n",
        "    log_ret_df = pd.concat([log_ret_df, df[f'{ticker}']], axis=1)\n",
        "\n",
        "# clean the dataframe\n",
        "log_ret_df.dropna(inplace=True)\n",
        "log_ret_df.set_index('date', inplace=True)\n",
        "\n",
        "log_ret_df.head()"
      ],
      "metadata": {
        "id": "0hXt8ACmDCfH",
        "colab": {
          "base_uri": "https://localhost:8080/",
          "height": 238
        },
        "outputId": "8a0511c2-7846-4b17-a51c-1e95d1683321"
      },
      "execution_count": 8,
      "outputs": [
        {
          "output_type": "execute_result",
          "data": {
            "text/plain": [
              "             BTC-USD   ETH-USD  DOGE-USD  MATIC-USD\n",
              "date                                               \n",
              "2020-02-02 -0.005178  0.026559  0.018814   0.041880\n",
              "2020-02-03 -0.005456  0.006592 -0.011410   0.144471\n",
              "2020-02-04 -0.012185 -0.003242  0.025492  -0.044297\n",
              "2020-02-05  0.046028  0.076176  0.031074   0.014285\n",
              "2020-02-06  0.012033  0.038936  0.027127   0.132067"
            ],
            "text/html": [
              "\n",
              "  <div id=\"df-5fd9315c-1497-471f-8fbe-ca26592c3b99\" class=\"colab-df-container\">\n",
              "    <div>\n",
              "<style scoped>\n",
              "    .dataframe tbody tr th:only-of-type {\n",
              "        vertical-align: middle;\n",
              "    }\n",
              "\n",
              "    .dataframe tbody tr th {\n",
              "        vertical-align: top;\n",
              "    }\n",
              "\n",
              "    .dataframe thead th {\n",
              "        text-align: right;\n",
              "    }\n",
              "</style>\n",
              "<table border=\"1\" class=\"dataframe\">\n",
              "  <thead>\n",
              "    <tr style=\"text-align: right;\">\n",
              "      <th></th>\n",
              "      <th>BTC-USD</th>\n",
              "      <th>ETH-USD</th>\n",
              "      <th>DOGE-USD</th>\n",
              "      <th>MATIC-USD</th>\n",
              "    </tr>\n",
              "    <tr>\n",
              "      <th>date</th>\n",
              "      <th></th>\n",
              "      <th></th>\n",
              "      <th></th>\n",
              "      <th></th>\n",
              "    </tr>\n",
              "  </thead>\n",
              "  <tbody>\n",
              "    <tr>\n",
              "      <th>2020-02-02</th>\n",
              "      <td>-0.005178</td>\n",
              "      <td>0.026559</td>\n",
              "      <td>0.018814</td>\n",
              "      <td>0.041880</td>\n",
              "    </tr>\n",
              "    <tr>\n",
              "      <th>2020-02-03</th>\n",
              "      <td>-0.005456</td>\n",
              "      <td>0.006592</td>\n",
              "      <td>-0.011410</td>\n",
              "      <td>0.144471</td>\n",
              "    </tr>\n",
              "    <tr>\n",
              "      <th>2020-02-04</th>\n",
              "      <td>-0.012185</td>\n",
              "      <td>-0.003242</td>\n",
              "      <td>0.025492</td>\n",
              "      <td>-0.044297</td>\n",
              "    </tr>\n",
              "    <tr>\n",
              "      <th>2020-02-05</th>\n",
              "      <td>0.046028</td>\n",
              "      <td>0.076176</td>\n",
              "      <td>0.031074</td>\n",
              "      <td>0.014285</td>\n",
              "    </tr>\n",
              "    <tr>\n",
              "      <th>2020-02-06</th>\n",
              "      <td>0.012033</td>\n",
              "      <td>0.038936</td>\n",
              "      <td>0.027127</td>\n",
              "      <td>0.132067</td>\n",
              "    </tr>\n",
              "  </tbody>\n",
              "</table>\n",
              "</div>\n",
              "    <div class=\"colab-df-buttons\">\n",
              "\n",
              "  <div class=\"colab-df-container\">\n",
              "    <button class=\"colab-df-convert\" onclick=\"convertToInteractive('df-5fd9315c-1497-471f-8fbe-ca26592c3b99')\"\n",
              "            title=\"Convert this dataframe to an interactive table.\"\n",
              "            style=\"display:none;\">\n",
              "\n",
              "  <svg xmlns=\"http://www.w3.org/2000/svg\" height=\"24px\" viewBox=\"0 -960 960 960\">\n",
              "    <path d=\"M120-120v-720h720v720H120Zm60-500h600v-160H180v160Zm220 220h160v-160H400v160Zm0 220h160v-160H400v160ZM180-400h160v-160H180v160Zm440 0h160v-160H620v160ZM180-180h160v-160H180v160Zm440 0h160v-160H620v160Z\"/>\n",
              "  </svg>\n",
              "    </button>\n",
              "\n",
              "  <style>\n",
              "    .colab-df-container {\n",
              "      display:flex;\n",
              "      gap: 12px;\n",
              "    }\n",
              "\n",
              "    .colab-df-convert {\n",
              "      background-color: #E8F0FE;\n",
              "      border: none;\n",
              "      border-radius: 50%;\n",
              "      cursor: pointer;\n",
              "      display: none;\n",
              "      fill: #1967D2;\n",
              "      height: 32px;\n",
              "      padding: 0 0 0 0;\n",
              "      width: 32px;\n",
              "    }\n",
              "\n",
              "    .colab-df-convert:hover {\n",
              "      background-color: #E2EBFA;\n",
              "      box-shadow: 0px 1px 2px rgba(60, 64, 67, 0.3), 0px 1px 3px 1px rgba(60, 64, 67, 0.15);\n",
              "      fill: #174EA6;\n",
              "    }\n",
              "\n",
              "    .colab-df-buttons div {\n",
              "      margin-bottom: 4px;\n",
              "    }\n",
              "\n",
              "    [theme=dark] .colab-df-convert {\n",
              "      background-color: #3B4455;\n",
              "      fill: #D2E3FC;\n",
              "    }\n",
              "\n",
              "    [theme=dark] .colab-df-convert:hover {\n",
              "      background-color: #434B5C;\n",
              "      box-shadow: 0px 1px 3px 1px rgba(0, 0, 0, 0.15);\n",
              "      filter: drop-shadow(0px 1px 2px rgba(0, 0, 0, 0.3));\n",
              "      fill: #FFFFFF;\n",
              "    }\n",
              "  </style>\n",
              "\n",
              "    <script>\n",
              "      const buttonEl =\n",
              "        document.querySelector('#df-5fd9315c-1497-471f-8fbe-ca26592c3b99 button.colab-df-convert');\n",
              "      buttonEl.style.display =\n",
              "        google.colab.kernel.accessAllowed ? 'block' : 'none';\n",
              "\n",
              "      async function convertToInteractive(key) {\n",
              "        const element = document.querySelector('#df-5fd9315c-1497-471f-8fbe-ca26592c3b99');\n",
              "        const dataTable =\n",
              "          await google.colab.kernel.invokeFunction('convertToInteractive',\n",
              "                                                    [key], {});\n",
              "        if (!dataTable) return;\n",
              "\n",
              "        const docLinkHtml = 'Like what you see? Visit the ' +\n",
              "          '<a target=\"_blank\" href=https://colab.research.google.com/notebooks/data_table.ipynb>data table notebook</a>'\n",
              "          + ' to learn more about interactive tables.';\n",
              "        element.innerHTML = '';\n",
              "        dataTable['output_type'] = 'display_data';\n",
              "        await google.colab.output.renderOutput(dataTable, element);\n",
              "        const docLink = document.createElement('div');\n",
              "        docLink.innerHTML = docLinkHtml;\n",
              "        element.appendChild(docLink);\n",
              "      }\n",
              "    </script>\n",
              "  </div>\n",
              "\n",
              "\n",
              "<div id=\"df-4846369b-ef13-42ee-8537-b9056c53c479\">\n",
              "  <button class=\"colab-df-quickchart\" onclick=\"quickchart('df-4846369b-ef13-42ee-8537-b9056c53c479')\"\n",
              "            title=\"Suggest charts.\"\n",
              "            style=\"display:none;\">\n",
              "\n",
              "<svg xmlns=\"http://www.w3.org/2000/svg\" height=\"24px\"viewBox=\"0 0 24 24\"\n",
              "     width=\"24px\">\n",
              "    <g>\n",
              "        <path d=\"M19 3H5c-1.1 0-2 .9-2 2v14c0 1.1.9 2 2 2h14c1.1 0 2-.9 2-2V5c0-1.1-.9-2-2-2zM9 17H7v-7h2v7zm4 0h-2V7h2v10zm4 0h-2v-4h2v4z\"/>\n",
              "    </g>\n",
              "</svg>\n",
              "  </button>\n",
              "\n",
              "<style>\n",
              "  .colab-df-quickchart {\n",
              "    background-color: #E8F0FE;\n",
              "    border: none;\n",
              "    border-radius: 50%;\n",
              "    cursor: pointer;\n",
              "    display: none;\n",
              "    fill: #1967D2;\n",
              "    height: 32px;\n",
              "    padding: 0 0 0 0;\n",
              "    width: 32px;\n",
              "  }\n",
              "\n",
              "  .colab-df-quickchart:hover {\n",
              "    background-color: #E2EBFA;\n",
              "    box-shadow: 0px 1px 2px rgba(60, 64, 67, 0.3), 0px 1px 3px 1px rgba(60, 64, 67, 0.15);\n",
              "    fill: #174EA6;\n",
              "  }\n",
              "\n",
              "  [theme=dark] .colab-df-quickchart {\n",
              "    background-color: #3B4455;\n",
              "    fill: #D2E3FC;\n",
              "  }\n",
              "\n",
              "  [theme=dark] .colab-df-quickchart:hover {\n",
              "    background-color: #434B5C;\n",
              "    box-shadow: 0px 1px 3px 1px rgba(0, 0, 0, 0.15);\n",
              "    filter: drop-shadow(0px 1px 2px rgba(0, 0, 0, 0.3));\n",
              "    fill: #FFFFFF;\n",
              "  }\n",
              "</style>\n",
              "\n",
              "  <script>\n",
              "    async function quickchart(key) {\n",
              "      const charts = await google.colab.kernel.invokeFunction(\n",
              "          'suggestCharts', [key], {});\n",
              "    }\n",
              "    (() => {\n",
              "      let quickchartButtonEl =\n",
              "        document.querySelector('#df-4846369b-ef13-42ee-8537-b9056c53c479 button');\n",
              "      quickchartButtonEl.style.display =\n",
              "        google.colab.kernel.accessAllowed ? 'block' : 'none';\n",
              "    })();\n",
              "  </script>\n",
              "</div>\n",
              "    </div>\n",
              "  </div>\n"
            ]
          },
          "metadata": {},
          "execution_count": 8
        }
      ]
    },
    {
      "cell_type": "markdown",
      "source": [
        "Plot matrix heatmaps"
      ],
      "metadata": {
        "id": "FOvxOR5Nkvd2"
      }
    },
    {
      "cell_type": "code",
      "source": [
        "plt.figure(figsize=(15, 5))\n",
        "sns.heatmap(round(log_ret_df.corr(), 2), cmap=sns.diverging_palette(220, 20, as_cmap=True), annot=True, vmin=-1, vmax=1)\n",
        "plt.title('Asset Correlations')\n",
        "plt.show()"
      ],
      "metadata": {
        "id": "4UTrSDUJkSmX",
        "colab": {
          "base_uri": "https://localhost:8080/",
          "height": 468
        },
        "outputId": "fb424864-30fb-4ccf-ab4a-96007da81a7a"
      },
      "execution_count": 9,
      "outputs": [
        {
          "output_type": "display_data",
          "data": {
            "text/plain": [
              "<Figure size 1500x500 with 2 Axes>"
            ],
            "image/png": "[encoded data removed]"
          },
          "metadata": {}
        }
      ]
    },
    {
      "cell_type": "markdown",
      "source": [
        "Compute sharpe ratio for each asset and plot the results. The formula for calculating the annualized sharpe ratio is given as:\n",
        "\n",
        "$S_a = \\frac{E[R_p - R_f]}{\\sigma_p} \\times \\sqrt{T}$\n",
        "\n",
        "* Crpyto trades occur 24/7, 365 times a year (i.e $T$ = 365)\n",
        "* $R_f$ is assumed to be 0%"
      ],
      "metadata": {
        "id": "1sKlkUSGmJPM"
      }
    },
    {
      "cell_type": "code",
      "source": [
        "ax = round(log_ret_df.mean(axis=0) / log_ret_df.std(axis=0) * 365**0.5, 3).plot(kind='bar', figsize=(15, 5))\n",
        "plt.xticks(rotation=0)\n",
        "plt.title('Sharpe Ratios')\n",
        "\n",
        "for p in ax.patches:\n",
        "    ax.annotate(str(p.get_height()), (p.get_x() + 0.2, p.get_height() + 0.01))"
      ],
      "metadata": {
        "id": "qEwV3fS5nTtj",
        "colab": {
          "base_uri": "https://localhost:8080/",
          "height": 468
        },
        "outputId": "a4f4fcb5-616b-4579-cc50-c5c21b06b5bf"
      },
      "execution_count": 10,
      "outputs": [
        {
          "output_type": "display_data",
          "data": {
            "text/plain": [
              "<Figure size 1500x500 with 1 Axes>"
            ],
            "image/png": "[encoded data removed]"
          },
          "metadata": {}
        }
      ]
    },
    {
      "cell_type": "markdown",
      "source": [
        "**(c) What can you observe? (< 100 words)**"
      ],
      "metadata": {
        "id": "hyrJT8KMNlc2"
      }
    },
    {
      "cell_type": "markdown",
      "source": [
        "All of the 4 assets' returns in the portfolio are quite strongly correlated with each other. This would mean that diversification as a form of risk management would not be effective in this portfolio."
      ],
      "metadata": {
        "id": "u9X8ZkIflB8N"
      }
    },
    {
      "cell_type": "markdown",
      "source": [
        "---\n",
        "# Question 2 (5 marks)\n",
        "### Markowitz MVO and simulated portfolio value"
      ],
      "metadata": {
        "id": "9gCZuWT2MEfA"
      }
    },
    {
      "cell_type": "markdown",
      "source": [
        "**(a) Assume we are long only, with total weights equal to 1, run a Mean-Variance Optimization on\n",
        "the crypto assets to minimize risk. Plot the resultant holding weights for two constraint settings, one with the maximum holding weight limit to 0.5, and one with no limit on maximum holding weight. So you will have two graphs, each has 4 lines of different colors. Each line has 731 values between 0-1, representing the holding weight for that asset on each day.**"
      ],
      "metadata": {
        "id": "Q8_RrGb4MTvv"
      }
    },
    {
      "cell_type": "markdown",
      "source": [
        "Prepare data"
      ],
      "metadata": {
        "id": "311q7dZcCdM2"
      }
    },
    {
      "cell_type": "code",
      "source": [
        "data_q2 = get_data_for_multiple_stocks(\n",
        "    tickers=tickers_to_pull,\n",
        "    start_date='2019-05-01',  # earliest available data for MATIC-USD starts from 2019-05-01\n",
        "    end_date='2022-02-02'\n",
        ")\n",
        "\n",
        "simple_ret_df = pd.DataFrame()\n",
        "for kv_pair in data_q2.items():\n",
        "    ticker, df = kv_pair\n",
        "    df.rename(columns={'perc_ret': f'{ticker}'}, inplace=True)\n",
        "    simple_ret_df = pd.concat([simple_ret_df, df[f'{ticker}']], axis=1)\n",
        "\n",
        "# clean the dataframe\n",
        "simple_ret_df.dropna(inplace=True)\n",
        "simple_ret_df.reset_index(drop=True, inplace=True)"
      ],
      "metadata": {
        "id": "8Cm1X0otCc6t",
        "colab": {
          "base_uri": "https://localhost:8080/"
        },
        "outputId": "bba4175d-f3d6-4d4a-aae1-c866dca47859"
      },
      "execution_count": 11,
      "outputs": [
        {
          "output_type": "stream",
          "name": "stdout",
          "text": [
            "[*********************100%%**********************]  1 of 1 completed\n",
            "[*********************100%%**********************]  1 of 1 completed\n",
            "[*********************100%%**********************]  1 of 1 completed\n",
            "[*********************100%%**********************]  1 of 1 completed\n",
            "Fetched financial data for BTC-USD, ETH-USD, DOGE-USD, MATIC-USD from 2019-05-01 to 2022-02-02.\n"
          ]
        }
      ]
    },
    {
      "cell_type": "markdown",
      "source": [
        "Perform Markowitz MVO and compute optimized portfolio returns"
      ],
      "metadata": {
        "id": "qZSskF98RDfz"
      }
    },
    {
      "cell_type": "code",
      "source": [
        "shape = (len(simple_ret_df), 4)\n",
        "constrained_weights, unconstrained_weights = [], []\n",
        "\n",
        "for idx in range(len(simple_ret_df)):\n",
        "\n",
        "    freq = 180\n",
        "    start_idx, end_idx = idx, idx + freq\n",
        "\n",
        "    df = simple_ret_df[start_idx:end_idx]  # sliding window of 180 days\n",
        "\n",
        "    if len(df) == freq:\n",
        "\n",
        "        num_assets = len(df.columns)\n",
        "        w = cvx.Variable(num_assets)\n",
        "\n",
        "        # compute the returns' expected mean\n",
        "        total_return_log = np.log(df + 1)\n",
        "        total_return_log = df.sum().to_numpy()\n",
        "        total_simple_return = np.exp(total_return_log) - 1\n",
        "        horizon_length = df.shape[1]\n",
        "        expected_mean = (1 + total_simple_return) ** (1 / horizon_length) - 1\n",
        "\n",
        "        # compute the portfolio volatility\n",
        "        cvm = df.cov()  # portfolio covariance matrix\n",
        "        portfolio_variance = cvx.quad_form(w, cvm)\n",
        "\n",
        "        # set maximum weight constraint and returns scale\n",
        "        max_weight = 0.5\n",
        "        returns_scale = 0.0001\n",
        "\n",
        "        # define constraints\n",
        "        constraints = [\n",
        "            w >= 0,  # weights must be non-negative\n",
        "            w <= max_weight,  # weights cannot exceed the max holding weight\n",
        "            sum(w) == 1  # sum of weights must be 1\n",
        "        ]\n",
        "\n",
        "        portfolio_return = sum(cvx.multiply(expected_mean, w))\n",
        "\n",
        "        # define objective function\n",
        "        objective = cvx.Minimize(portfolio_variance - returns_scale * portfolio_return)\n",
        "        problem = cvx.Problem(objective, constraints)\n",
        "\n",
        "        # solve optimization problem for constrained portfolio\n",
        "        problem.solve()\n",
        "        weights_constrained = w.value\n",
        "\n",
        "        # solve optimization problem for unconstrained portfolio\n",
        "        constraints.pop(1)  # remove max_weight constraint (second constraint)\n",
        "        problem = cvx.Problem(objective, constraints)\n",
        "        problem.solve()\n",
        "        weights_unconstrained = w.value\n",
        "\n",
        "        # save results\n",
        "        constrained_weights.append(weights_constrained)\n",
        "        unconstrained_weights.append(weights_unconstrained)\n",
        "\n",
        "# format results into a dataframe\n",
        "constrained_weights_df = pd.DataFrame(constrained_weights)\n",
        "unconstrained_weights_df = pd.DataFrame(unconstrained_weights)\n",
        "\n",
        "# format column names\n",
        "columns = {0: 'BTC-USD', 1: 'ETH-USD', 2: 'DOGE-USD', 3: 'MATIC-USD'}\n",
        "constrained_weights_df.rename(columns=columns, inplace=True)\n",
        "unconstrained_weights_df.rename(columns=columns, inplace=True)"
      ],
      "metadata": {
        "id": "YViHeyJUNo5L"
      },
      "execution_count": null,
      "outputs": []
    },
    {
      "cell_type": "markdown",
      "source": [
        "Plot the results of the Markowitz MVO"
      ],
      "metadata": {
        "id": "ywP6An85LZaH"
      }
    },
    {
      "cell_type": "code",
      "source": [
        "constrained_weights_df.plot(figsize=(15, 5))\n",
        "plt.title('Constrained Weights Plot')\n",
        "plt.ylabel('Weights')\n",
        "plt.legend(bbox_to_anchor=(1.05, 1), loc=2, borderaxespad=0.)\n",
        "\n",
        "unconstrained_weights_df.plot(figsize=(15, 5))\n",
        "plt.title('Unconstrained Weights Plot')\n",
        "plt.ylabel('Weights')\n",
        "plt.legend(bbox_to_anchor=(1.05, 1), loc=2, borderaxespad=0.)\n",
        "\n",
        "plt.show()"
      ],
      "metadata": {
        "id": "ZO4eRt-FX6P6"
      },
      "execution_count": null,
      "outputs": []
    },
    {
      "cell_type": "markdown",
      "source": [
        "**(b) Report the annualized returns and volatilites for the two portfolio settings and compare the results.**"
      ],
      "metadata": {
        "id": "0Ar152phaKz3"
      }
    },
    {
      "cell_type": "markdown",
      "source": [
        "Helper function to compute weighted portfolio returns"
      ],
      "metadata": {
        "id": "0oF0ITZmFh1u"
      }
    },
    {
      "cell_type": "code",
      "source": [
        "def compute_weighted_log_returns(\n",
        "    df: pd.DataFrame,\n",
        "    weights: pd.DataFrame,\n",
        "    is_log: bool = False\n",
        ") -> pd.Series:\n",
        "    \"\"\"\n",
        "    Function to compute a portfolio's weighted log returns\n",
        "\n",
        "    :param df: Dataframe containing portfolio's log returns\n",
        "    :param weights: Dataframe containing each asset's weights\n",
        "    :param is_simple: Whether input df's returns are in simple or logarithmic form\n",
        "    :return Dataframe containing the weighted returns\n",
        "    \"\"\"\n",
        "\n",
        "    # convert log returns to simple returns before weighting\n",
        "    weighted_returns = (np.exp(df) - 1) * weights if is_log else df * weights\n",
        "\n",
        "    # sum up assets' weighted returns\n",
        "    weighted_returns = np.sum(weighted_returns, axis=1)\n",
        "\n",
        "    # convert simple returns back to log returns\n",
        "    weighted_returns = np.log(weighted_returns + 1)\n",
        "\n",
        "    return weighted_returns"
      ],
      "metadata": {
        "id": "YmHff7tAFlrg"
      },
      "execution_count": null,
      "outputs": []
    },
    {
      "cell_type": "markdown",
      "source": [
        "Calculate the portfolio's weighted returns"
      ],
      "metadata": {
        "id": "N9nhyxegUv2c"
      }
    },
    {
      "cell_type": "code",
      "source": [
        "simple_ret_df_trimmed = simple_ret_df[-len(unconstrained_weights_df):].reset_index(drop=True)\n",
        "constrained_weighted_log_ret_df = compute_weighted_log_returns(\n",
        "    df=simple_ret_df_trimmed,\n",
        "    weights=constrained_weights_df\n",
        ")\n",
        "unconstrained_weighted_log_ret_df = compute_weighted_log_returns(\n",
        "    df=simple_ret_df_trimmed,\n",
        "    weights=unconstrained_weights_df\n",
        ")\n",
        "\n",
        "compiled_weighted_log_ret_df = pd.concat([constrained_weighted_log_ret_df, unconstrained_weighted_log_ret_df], axis=1)\n",
        "compiled_weighted_log_ret_df.rename(columns={0: 'constrained_weights', 1: 'unconstrained_weights'}, inplace=True)"
      ],
      "metadata": {
        "id": "yjBJGK7mUu96"
      },
      "execution_count": null,
      "outputs": []
    },
    {
      "cell_type": "markdown",
      "source": [
        "Annualized log returns and volatility can be calculated as follows:\n",
        "\n",
        "$Annualized\\ Log\\ Returns = E[R] \\times {T}$ <br>\n",
        "$Annualized\\ Volatility = {\\sigma_{R}} \\times \\sqrt{T}$"
      ],
      "metadata": {
        "id": "44y_ZWZMjB1t"
      }
    },
    {
      "cell_type": "markdown",
      "source": [
        "Compute and report the annualized returns and volatility for both weights settings"
      ],
      "metadata": {
        "id": "Yjakls7-6ixC"
      }
    },
    {
      "cell_type": "code",
      "source": [
        "# compute annualized returns and volatility based on the formulas above\n",
        "annualized_log_ret = compiled_weighted_log_ret_df[-732:].mean(axis=0) * 365\n",
        "annualized_vol = compiled_weighted_log_ret_df[-732:].std(axis=0) * 365**0.5\n",
        "\n",
        "cw_ar, uncw_ar = annualized_log_ret['constrained_weights'], annualized_log_ret['unconstrained_weights']\n",
        "cw_av, uncw_av = annualized_vol['constrained_weights'], annualized_vol['unconstrained_weights']\n",
        "\n",
        "# format results\n",
        "results = tabulate([\n",
        "    ['', 'Constrained Weights', 'Unconstrained Weights'],\n",
        "    ['Annualized Log Returns', round(cw_ar, 4), round(uncw_ar, 4)],\n",
        "    ['Annualized Volatility', round(cw_av, 4), round(uncw_av, 4)],\n",
        "    ['Sharpe Ratio', round(cw_ar / cw_av, 4), round(uncw_ar / uncw_av, 4)]\n",
        "], headers='firstrow', numalign='center', stralign='center', tablefmt='presto')\n",
        "\n",
        "# report results\n",
        "print(results)"
      ],
      "metadata": {
        "id": "jaudgNb2nL8T"
      },
      "execution_count": null,
      "outputs": []
    },
    {
      "cell_type": "markdown",
      "source": [
        "---\n",
        "# Question 3 (4 marks)\n",
        "### Calculate the VaR (5%) for the component assets"
      ],
      "metadata": {
        "id": "p2dQEqawHmSk"
      }
    },
    {
      "cell_type": "markdown",
      "source": [
        "**(a) At α = 5% level, estimate daily VaR and ES of the percentage return (not value) of: all the\n",
        "individual component crypto assets and the portfolio (no limit to holding weights setting). Plot\n",
        "and show the VaR and ES curves for one year (2021-2-1 to 2022-2-1). So you will have 5\n",
        "graphs, each has two lines of different colors (VaR and ES).**"
      ],
      "metadata": {
        "id": "WSPn5OBQH0W5"
      }
    },
    {
      "cell_type": "markdown",
      "source": [
        "Prepare data"
      ],
      "metadata": {
        "id": "rR5MQoIBfkt5"
      }
    },
    {
      "cell_type": "code",
      "source": [
        "data_q3 = get_data_for_multiple_stocks(\n",
        "    tickers=tickers_to_pull,\n",
        "    start_date='2020-02-01',\n",
        "    end_date='2022-02-02'\n",
        ")\n",
        "weights = unconstrained_weights_df.copy(deep=True).reset_index(drop=True)  # no limit on holding weights setting\n",
        "weights = weights.iloc[-732:].reset_index(drop=True)\n",
        "alpha = 0.05\n",
        "z_alpha = norm.ppf(alpha, loc=0, scale=1)  # z-score for parametric method\n",
        "\n",
        "ptf_df_q3 = pd.DataFrame()\n",
        "ptf_df_q3['date'] = data_q3['BTC-USD']['date']\n",
        "\n",
        "for ticker in ('BTC-USD', 'ETH-USD', 'MATIC-USD', 'DOGE-USD'):\n",
        "    ptf_df_q3[ticker] = data_q3[ticker]['perc_ret'] * weights[ticker]\n",
        "ptf_df_q3['perc_ret'] = ptf_df_q3['BTC-USD'] + ptf_df_q3['ETH-USD'] + ptf_df_q3['MATIC-USD'] + ptf_df_q3['DOGE-USD']\n",
        "\n",
        "data_q3['PTF'] = ptf_df_q3.copy(deep=True)"
      ],
      "metadata": {
        "id": "H6Svf-CYLW53"
      },
      "execution_count": null,
      "outputs": []
    },
    {
      "cell_type": "markdown",
      "source": [
        "Estimate VaR and ES (5%) using Historical Simulations and Parametric methods"
      ],
      "metadata": {
        "id": "79Q1gpcGLUr9"
      }
    },
    {
      "cell_type": "code",
      "source": [
        "for ticker in data_q3.keys():\n",
        "\n",
        "    new_df = data_q3[ticker].copy(deep=True).dropna().reset_index(drop=True)\n",
        "    # new_df['weighted_perc_ret'] = new_df['perc_ret'] * weights[ticker]  # weight returns before computations\n",
        "\n",
        "    for idx in range(len(new_df)):\n",
        "\n",
        "        # get past 365 days of data (sliding window)\n",
        "        start_idx, end_idx = idx - 364, idx\n",
        "        past_365 = new_df.loc[start_idx:end_idx, 'perc_ret']\n",
        "        past_365.dropna(inplace=True)\n",
        "\n",
        "        # update results\n",
        "        if len(past_365) == 365:\n",
        "\n",
        "            # compute VaR and ES [Historical Simulations]\n",
        "            VaR_95_HS = past_365.quantile(alpha)  # take returns that are in the 5th percentile\n",
        "            ES_95_HS = np.mean(past_365[past_365 < VaR_95_HS])\n",
        "\n",
        "            # compute VaR and ES [Parametric]\n",
        "            mu = past_365.mean()\n",
        "            sigma = past_365.std()\n",
        "            VaR_95_Para = mu + sigma * z_alpha\n",
        "            ES_95_Para = (norm.pdf(z_alpha, loc=0, scale=1) * sigma) / (1 - (100 - (alpha * 100)) / 100)\n",
        "\n",
        "            # add results to dataframe\n",
        "            new_df.loc[idx, 'VaR_95_HS'], new_df.loc[idx, 'ES_95_HS'] = VaR_95_HS, ES_95_HS\n",
        "            new_df.loc[idx, 'VaR_95_Para'], new_df.loc[idx, 'ES_95_Para'] = VaR_95_Para, ES_95_Para\n",
        "\n",
        "        else:\n",
        "            new_df.loc[idx, 'VaR_95_HS'], new_df.loc[idx, 'ES_95_HS'] = np.nan, np.nan\n",
        "            new_df.loc[idx, 'VaR_95_Para'], new_df.loc[idx, 'ES_95_Para'] = np.nan, np.nan\n",
        "\n",
        "    # update df for each asset after computing VaR\n",
        "    data_q3[ticker] = new_df.reset_index(drop=True)"
      ],
      "metadata": {
        "id": "zQXaSAEf5IyX"
      },
      "execution_count": null,
      "outputs": []
    },
    {
      "cell_type": "markdown",
      "source": [
        "Plot VaR (5%) curves for our Crypto assets"
      ],
      "metadata": {
        "id": "k8KyFANUprUx"
      }
    },
    {
      "cell_type": "code",
      "source": [
        "# trim period to 2021-02-01 - 2022-02-1 for plotting\n",
        "for ticker in data_q3.keys():\n",
        "    df = data_q3[ticker].copy(deep=True)\n",
        "    df = df[df['date'] >= '2021-02-01']\n",
        "    data_q3[ticker] = df\n",
        "\n",
        "plt.figure(figsize=(15, 10))\n",
        "plt.plot(data_q3['BTC-USD']['date'], -data_q3['BTC-USD']['VaR_95_HS'], 'g-', label='BTC-USD HS')\n",
        "plt.plot(data_q3['ETH-USD']['date'], -data_q3['ETH-USD']['VaR_95_HS'], 'b-', label='ETH-USD HS')\n",
        "plt.plot(data_q3['DOGE-USD']['date'], -data_q3['DOGE-USD']['VaR_95_HS'], 'r-', label='DOGE-USD HS')\n",
        "plt.plot(data_q3['MATIC-USD']['date'], -data_q3['MATIC-USD']['VaR_95_HS'], 'y-', label='MATIC-USD HS')\n",
        "plt.plot(data_q3['PTF']['date'], -data_q3['PTF']['VaR_95_HS'], 'm-', label='Portfolio HS')\n",
        "plt.plot(data_q3['BTC-USD']['date'], -data_q3['BTC-USD']['VaR_95_Para'], 'g--', label='BTC-USD Parametric')\n",
        "plt.plot(data_q3['ETH-USD']['date'], -data_q3['ETH-USD']['VaR_95_Para'], 'b--', label='ETH-USD Parametric')\n",
        "plt.plot(data_q3['DOGE-USD']['date'], -data_q3['DOGE-USD']['VaR_95_Para'], 'r--', label='DOGE-USD Parametric')\n",
        "plt.plot(data_q3['MATIC-USD']['date'], -data_q3['MATIC-USD']['VaR_95_Para'], 'y--', label='MATIC-USD Parametric')\n",
        "plt.plot(data_q3['PTF']['date'], -data_q3['PTF']['VaR_95_Para'], 'm--', label='Portfolio Parametric')\n",
        "plt.grid(True)\n",
        "plt.xlabel('Date')\n",
        "plt.ylabel('Value At Risk')\n",
        "plt.legend(bbox_to_anchor=(1.05, 1), loc=2, borderaxespad=0.)\n",
        "locs, labels = plt.xticks()\n",
        "plt.setp(labels, rotation=0)\n",
        "plt.title('Value-at-Risk (5%) Using Historical Simulations and Parametric Methods')\n",
        "plt.show()"
      ],
      "metadata": {
        "id": "HViA1cYxpq4q"
      },
      "execution_count": null,
      "outputs": []
    },
    {
      "cell_type": "markdown",
      "source": [
        "Plot ES (5%) curves for our Crypto assets"
      ],
      "metadata": {
        "id": "hB45VYXVsAno"
      }
    },
    {
      "cell_type": "code",
      "source": [
        "plt.figure(figsize=(15, 10))\n",
        "plt.plot(data_q3['BTC-USD']['date'], -data_q3['BTC-USD']['ES_95_HS'], 'g-', label='BTC-USD HS')\n",
        "plt.plot(data_q3['ETH-USD']['date'], -data_q3['ETH-USD']['ES_95_HS'], 'b-', label='ETH-USD HS')\n",
        "plt.plot(data_q3['DOGE-USD']['date'], -data_q3['DOGE-USD']['ES_95_HS'], 'r-', label='DOGE-USD HS')\n",
        "plt.plot(data_q3['MATIC-USD']['date'], -data_q3['MATIC-USD']['ES_95_HS'], 'y-', label='MATIC-USD HS')\n",
        "plt.plot(data_q3['PTF']['date'], -data_q3['PTF']['ES_95_HS'], 'm-', label='Portfolio HS')\n",
        "plt.plot(data_q3['BTC-USD']['date'], data_q3['BTC-USD']['ES_95_Para'], 'g--', label='BTC-USD Parametric')\n",
        "plt.plot(data_q3['ETH-USD']['date'], data_q3['ETH-USD']['ES_95_Para'], 'b--', label='ETH-USD Parametric')\n",
        "plt.plot(data_q3['DOGE-USD']['date'], data_q3['DOGE-USD']['ES_95_Para'], 'r--', label='DOGE-USD Parametric')\n",
        "plt.plot(data_q3['MATIC-USD']['date'], data_q3['MATIC-USD']['ES_95_Para'], 'y--', label='MATIC-USD Parametric')\n",
        "plt.plot(data_q3['PTF']['date'], data_q3['PTF']['ES_95_Para'], 'm--', label='Portfolio Parametric')\n",
        "plt.grid(True)\n",
        "plt.xlabel('Date')\n",
        "plt.ylabel('Expected Shortfall')\n",
        "plt.legend(bbox_to_anchor=(1.05, 1), loc=2)\n",
        "locs, labels = plt.xticks()\n",
        "plt.setp(labels, rotation=0)\n",
        "plt.title('Expected Shortfall (5%) Using Historical Simulations and Parametric Methods')\n",
        "plt.show()"
      ],
      "metadata": {
        "id": "-1Ejj-_GsVjL"
      },
      "execution_count": null,
      "outputs": []
    },
    {
      "cell_type": "markdown",
      "source": [
        "**(b) Identify the most risky component asset from the above evidence and justify your choice. (<100 words)**"
      ],
      "metadata": {
        "id": "DOk-rCXYH9n3"
      }
    },
    {
      "cell_type": "markdown",
      "source": [
        "DOGE-USD is the most risky component asset. It has the highest VaR and ES at alpha=5% level."
      ],
      "metadata": {
        "id": "l3j6pXvkvQCO"
      }
    },
    {
      "cell_type": "markdown",
      "source": [
        "# Question 4 (6 marks)\n",
        "### Hedge by Options"
      ],
      "metadata": {
        "id": "2fVtO2xva7GD"
      }
    },
    {
      "cell_type": "markdown",
      "source": [
        "**(a) Compare Bitcoin (BTC-USD) and Ether (ETH-USD), which coins' prices do you think is more volatile? (You can choose to also consider the upside and downside risks separately)**"
      ],
      "metadata": {
        "id": "jQJK_511bA5i"
      }
    },
    {
      "cell_type": "markdown",
      "source": [
        "Visualize price data"
      ],
      "metadata": {
        "id": "w5eNx_sjgmo1"
      }
    },
    {
      "cell_type": "code",
      "source": [
        "# prepare price data for BTC-USD and ETH-USD\n",
        "btc_df = og_data['BTC-USD'].copy(deep=True)\n",
        "eth_df = og_data['ETH-USD'].copy(deep=True)"
      ],
      "metadata": {
        "id": "wrLJiD2rGlaw"
      },
      "execution_count": null,
      "outputs": []
    },
    {
      "cell_type": "code",
      "source": [
        "plt.figure(figsize=(15, 5))\n",
        "plt.plot(btc_df['date'], btc_df['log_ret'], '-b', label='BTC-USD')\n",
        "plt.plot(eth_df['date'], eth_df['log_ret'], '-g', label='ETH-USD')\n",
        "plt.title('Log Returns for Bitcoin & Ethereum')\n",
        "plt.legend(bbox_to_anchor=(1.05, 1), loc=2)\n",
        "plt.show()"
      ],
      "metadata": {
        "id": "vovVqM1sgjxG"
      },
      "execution_count": null,
      "outputs": []
    },
    {
      "cell_type": "markdown",
      "source": [
        "Compute and compare the annualized metrics for both tickers"
      ],
      "metadata": {
        "id": "J11_oFs1wIOq"
      }
    },
    {
      "cell_type": "code",
      "source": [
        "# calculate annualized volatility for their log returns\n",
        "btc_av = btc_df['log_ret'].std() * 365**0.5\n",
        "eth_av = eth_df['log_ret'].std() * 365**0.5\n",
        "\n",
        "# calculate average of their log returns considering only upside risks\n",
        "btc_upside = btc_df[btc_df['log_ret'] > 0]['log_ret'].mean()\n",
        "eth_upside = eth_df[eth_df['log_ret'] > 0]['log_ret'].mean()\n",
        "\n",
        "# calculate average of their log returns considering only downside risks\n",
        "btc_downside = btc_df[btc_df['log_ret'] <= 0]['log_ret'].mean()\n",
        "eth_downside = eth_df[eth_df['log_ret'] <= 0]['log_ret'].mean()\n",
        "\n",
        "results = tabulate([\n",
        "    ['', 'BTC-USD', 'ETH-USD'],\n",
        "    ['Annualized Volatility', round(btc_av, 3), round(eth_av, 3)],\n",
        "    ['Average Returns (Upside)', round(btc_upside, 3), round(eth_upside, 3)],\n",
        "    ['Average Returns (Downside)', round(btc_downside, 3), round(eth_downside, 3)]\n",
        "], headers='firstrow', numalign='center', tablefmt='presto')\n",
        "\n",
        "print(results)"
      ],
      "metadata": {
        "id": "NPzc75rnhk4g"
      },
      "execution_count": null,
      "outputs": []
    },
    {
      "cell_type": "markdown",
      "source": [
        "**(b) Download the file ‘okex_option_trade.csv’ (BTC’s and ETH’s call and put options trade data). (Take the first row instrument here for example, in the instrument_id: “BTC-USD” refers to the underlying asset, “210226” refers to its expiration date which is 2021/02/26, “US$7000” is the strike price. You can take the price column as the market price. That means, on 2020/12/17, someone bought qty=1 unit of this instrument at a price of BTC 0.001, so this put option price at that timestamp is BTC 0.001)**\n",
        "\n",
        "***Note that:***\n",
        "\n",
        "***1) The data file is not chronologically ordered by timestamps, you may need to perform some data sorting/filtering.***\n",
        "\n",
        "***2) Assume you will not have liquidity issue, that is, you can successfully buy any quantity of the instrument at the given market prices, with no spread or fees.***\n",
        "\n",
        "**For your no limit setting portfolio from Q2, on 2021/01/01, for each one unit of the asset your team deemed to be the most volatile, buy one straddle (buy one put + buy one call) that expires on 2021/01/08. You can choose the exercise prices as close as to minus/plus one standard deviation of asset return (minus one standard deviation for buying a put and plus one standard deviation for buying a call option. You can determine your cost using the last transacted option prices on 2021/01/01 as the market price. Suppose your cost is externally financed and to be returned/deducted on 2021/01/08, with no interest rate. What are the instrument_ids that you decided to buy?**"
      ],
      "metadata": {
        "id": "ATMZ5gST-Bju"
      }
    },
    {
      "cell_type": "markdown",
      "source": [
        "Read CSV file into dataframe"
      ],
      "metadata": {
        "id": "3I6Zxo5HKXZ7"
      }
    },
    {
      "cell_type": "code",
      "source": [
        "file_path = '/content/drive/My Drive/bt4016/ashwin/OKEx_options_trade.csv'\n",
        "okex_options_trade_df = pd.read_csv(file_path)\n",
        "\n",
        "okex_options_trade_df.head()"
      ],
      "metadata": {
        "id": "1uyEj2BwwjZ_"
      },
      "execution_count": null,
      "outputs": []
    },
    {
      "cell_type": "markdown",
      "source": [
        "As seen from the above output, the dataframe needs to be cleaned. We will perform some simple operations to tidy up the dataframe"
      ],
      "metadata": {
        "id": "dEiG69iQMObd"
      }
    },
    {
      "cell_type": "code",
      "source": [
        "def clean_options_df(df: pd.DataFrame) -> pd.DataFrame:\n",
        "\n",
        "    options_df = okex_options_trade_df[okex_options_trade_df['side'] != 'side'].dropna()\n",
        "\n",
        "    options_df['date'] = pd.to_datetime(options_df['timestamp'].apply(lambda x: x[:10]))\n",
        "\n",
        "    options_df['underlying_asset'] = options_df['instrument_id'].apply(lambda x: x[:7])\n",
        "\n",
        "    options_df['expiration_date'] = options_df['instrument_id'].apply(lambda x: '20'+ str(x[8:14]))\n",
        "    options_df['expiration_date'] = options_df['expiration_date'].apply(lambda x: datetime.strptime(x, '%Y%m%d'))\n",
        "\n",
        "    options_df['strike_price_temp'] = options_df['instrument_id'].apply(lambda x: x[15:])\n",
        "    options_df['strike_price'] = options_df['strike_price_temp'].apply(lambda x: x[:-2])\n",
        "    options_df['strike_price'] = options_df['strike_price'].replace('', np.nan).astype(float)\n",
        "\n",
        "    options_df['contract_type'] = options_df['instrument_id'].apply(lambda x: 'put' if x[-1] == 'P' else 'call')\n",
        "\n",
        "    options_df.drop(columns=['strike_price_temp', 'Unnamed: 0'], inplace=True)\n",
        "    options_df.dropna(inplace=True)\n",
        "    options_df.reset_index(drop=True, inplace=True)\n",
        "\n",
        "    options_df['price'] = options_df['price'].astype('float')\n",
        "\n",
        "    options_df['days_to_expiry'] = options_df['expiration_date'] - options_df['date']\n",
        "    options_df['days_to_expiry'] = options_df['days_to_expiry'].apply(lambda x: x.days)\n",
        "\n",
        "    return options_df\n",
        "\n",
        "options_df = clean_options_df(okex_options_trade_df)\n",
        "\n",
        "options_df.head()"
      ],
      "metadata": {
        "id": "KqD10kzOKNYK"
      },
      "execution_count": null,
      "outputs": []
    },
    {
      "cell_type": "markdown",
      "source": [
        "From our results in 4(a), we can see that Ether is more volatile than Bitcoin. Hence, we will be purchasing a straddle with Ether as its underlying asset that expires on 2021/01/08."
      ],
      "metadata": {
        "id": "VPYNljPRs9NS"
      }
    },
    {
      "cell_type": "code",
      "source": [
        "purchase_date, expiration_date = '2021-01-01', '2021-01-08'\n",
        "eth_options = options_df.copy(deep=True)[options_df['underlying_asset'] == 'ETH-USD']\n",
        "\n",
        "eth_options = eth_options[\n",
        "    (eth_options['date'] == purchase_date) &\n",
        "    (eth_options['expiration_date'] == expiration_date)\n",
        "]\n",
        "\n",
        "eth_call = eth_options[eth_options['contract_type'] == 'call']\n",
        "eth_put = eth_options[eth_options['contract_type'] == 'put']\n",
        "\n",
        "eth_call.reset_index(drop=True, inplace=True)\n",
        "eth_put.reset_index(drop=True, inplace=True)"
      ],
      "metadata": {
        "id": "drihdjLrOOpA"
      },
      "execution_count": null,
      "outputs": []
    },
    {
      "cell_type": "markdown",
      "source": [
        "Value the options using the Black Scholes Model.\n",
        "\n",
        "$Call\\,Price\\,(C) = SN(d_{1})-Xe^{-rt}N(d_{2})$ <br>\n",
        "$Put\\,Price\\,(P) = Xe^{-rt}N(-d_{2})-SN(-d_{1})$ <br>\n",
        "\n",
        "Where, <br>\n",
        "$d_1 = \\left( \\frac{ln(S/X) + (r + \\sigma^2/2)t}{\\sigma * t^{0.5}} \\right)$,\n",
        "$d_2 = \\left( \\frac{ln(S/X) + (r - \\sigma^2/2)t}{\\sigma * t^{0.5}} \\right)$ <br>"
      ],
      "metadata": {
        "id": "q8ETVgDTzokq"
      }
    },
    {
      "cell_type": "markdown",
      "source": [
        "Helper functions to compute call, put prices & overall profit"
      ],
      "metadata": {
        "id": "uxf9DH2E05d1"
      }
    },
    {
      "cell_type": "code",
      "source": [
        "def get_call_value(S, X, T, r, sigma):\n",
        "    \"\"\"\n",
        "    Formula for obtaining price of european call options using the BSM\n",
        "    :param S: current stock price\n",
        "    :param X: strike price\n",
        "    :param T: time to maturity\n",
        "    :param r: interest rate\n",
        "    :param sigma: volatility of underlying asset, daily\n",
        "    :return value of a call contract\n",
        "    \"\"\"\n",
        "\n",
        "    d1 = (np.log(S / X) + (r + sigma ** 2 / 2) * T) / (sigma * np.sqrt(T))\n",
        "    d2 = (np.log(S / X) + (r - sigma ** 2 / 2) * T) / (sigma * np.sqrt(T))\n",
        "\n",
        "    call = (S * si.norm.cdf(d1, 0.0, 1.0) - X * np.exp(-r * T) * si.norm.cdf(d2, 0.0, 1.0))\n",
        "\n",
        "    return call\n",
        "\n",
        "def get_put_value(S, X, T, r, sigma):\n",
        "    \"\"\"\n",
        "    Formula for obtaining price of european put options using the BSM\n",
        "    :param S: current stock price\n",
        "    :param X: strike price\n",
        "    :param T: time to maturity\n",
        "    :param r: interest rate\n",
        "    :param sigma: volatility of underlying asset, daily\n",
        "    :return value of a put contract\n",
        "    \"\"\"\n",
        "\n",
        "    d1 = (np.log(S / X) + (r + sigma ** 2 / 2) * T) / (sigma * np.sqrt(T))\n",
        "    d2 = (np.log(S / X) + (r - sigma ** 2 / 2) * T) / (sigma * np.sqrt(T))\n",
        "\n",
        "    put = (X * np.exp(-r * T) * si.norm.cdf(-d2, 0.0, 1.0) - S * si.norm.cdf(-d1, 0.0, 1.0))\n",
        "\n",
        "    return put\n",
        "\n",
        "def compute_option_profit(S1, K, cost, is_call):\n",
        "    \"\"\" Function to compute the payoff of a call/put option \"\"\"\n",
        "\n",
        "    payoff = max(S1 - K, 0) if is_call else max(K - S1, 0)\n",
        "    profit = payoff - cost\n",
        "\n",
        "    return profit"
      ],
      "metadata": {
        "id": "qI2BKONrpWwq"
      },
      "execution_count": null,
      "outputs": []
    },
    {
      "cell_type": "code",
      "source": [
        "S0 = float(og_data['ETH-USD'].loc[og_data['ETH-USD']['date'] == '2021-01-01']['adj_close'])\n",
        "S1 = float(og_data['ETH-USD'].loc[og_data['ETH-USD']['date'] == '2021-01-08']['adj_close'])\n",
        "\n",
        "eth_call['S0'] = S0\n",
        "eth_call['price_usd'] = eth_call['S0'] * eth_call['price']"
      ],
      "metadata": {
        "id": "AY2Z_n7B1RVZ"
      },
      "execution_count": null,
      "outputs": []
    },
    {
      "cell_type": "markdown",
      "source": [
        "Value the options contracts"
      ],
      "metadata": {
        "id": "uy-_8IfaSUcf"
      }
    },
    {
      "cell_type": "code",
      "source": [
        "eth_call['option_profit'] = eth_call.apply(\n",
        "    lambda df: compute_option_profit(\n",
        "        S1, df['strike_price'], df['price_usd'], True\n",
        "    ), axis=1\n",
        ")"
      ],
      "metadata": {
        "id": "SfnGts7qi9C9"
      },
      "execution_count": null,
      "outputs": []
    },
    {
      "cell_type": "code",
      "source": [
        "daily_vol = eth_av / (365**0.5)  # undo the annualization\n",
        "\n",
        "eth_call['value_BSM'] = eth_call.apply(\n",
        "    lambda df: get_call_value(\n",
        "        S0, df['strike_price'], 7, 0, daily_vol\n",
        "    ), axis=1\n",
        ")\n",
        "\n",
        "eth_call.head()"
      ],
      "metadata": {
        "id": "NqJP3nPoiYKO"
      },
      "execution_count": null,
      "outputs": []
    },
    {
      "cell_type": "markdown",
      "source": [
        "Get most profitable contracts"
      ],
      "metadata": {
        "id": "jA_nDRXxuFSE"
      }
    },
    {
      "cell_type": "code",
      "source": [
        "eth_call['upside'] = eth_call['value_BSM'] / eth_call['price_usd'] - 1\n",
        "\n",
        "eth_call.sort_values('upside', ascending=False).head(3)"
      ],
      "metadata": {
        "id": "itmchcsBuE2E"
      },
      "execution_count": null,
      "outputs": []
    },
    {
      "cell_type": "markdown",
      "source": [
        "# Question 5 (8 marks)\n",
        "### Options Trading Strategy"
      ],
      "metadata": {
        "id": "nICS5_TPkZzQ"
      }
    },
    {
      "cell_type": "markdown",
      "source": [
        "**(a) For your no limit setting portfolio from Q2, on any date throughout the two years, you are\n",
        "allowed to decide your favored frequency, and buy or sell any quantity of options as long as\n",
        "that option has a trading record on that date based on the data file. (Again, similar to Q4,\n",
        "assuming that you can successfully buy the instrument of any quantity at the last transacted\n",
        "prices. E.g., if your strategy decide to buy one call at 4:00PM, you may use the price at 3:58PM\n",
        "as the market price.) Clearly explain your strategy: what is the intuition? why do you design\n",
        "it in such a way.**"
      ],
      "metadata": {
        "id": "Abefikzokh0M"
      }
    },
    {
      "cell_type": "markdown",
      "source": [
        "Extract data"
      ],
      "metadata": {
        "id": "uF3J0Ai0qjc8"
      }
    },
    {
      "cell_type": "code",
      "source": [
        "data_q5 = get_data_for_multiple_stocks(\n",
        "    tickers=tickers_to_pull,\n",
        "    start_date='2019-05-01',\n",
        "    end_date='2022-02-02'\n",
        ")\n",
        "\n",
        "weights_q5 = unconstrained_weights_df.copy(deep=True)"
      ],
      "metadata": {
        "id": "tQQ0U-iXDr7d"
      },
      "execution_count": null,
      "outputs": []
    },
    {
      "cell_type": "markdown",
      "source": [
        "Prepare data"
      ],
      "metadata": {
        "id": "GDqX90RwqngJ"
      }
    },
    {
      "cell_type": "code",
      "source": [
        "tickers_to_trade = ['BTC-USD', 'ETH-USD']\n",
        "\n",
        "df_ptf = pd.DataFrame()\n",
        "df_ptf['Date'] = data_q5['BTC-USD']['date'][-828:].reset_index(drop=True)\n",
        "for ticker in tickers_to_pull:\n",
        "    new_df = pd.DataFrame()\n",
        "    new_df[f'{ticker}_PRICE'] = data_q5[ticker].copy(deep=True)[-828:][['adj_close']].reset_index(drop=True)\n",
        "    new_df[f'{ticker}_WGT'] = weights_q5[ticker].copy(deep=True)\n",
        "    df_ptf = pd.concat([df_ptf, new_df], axis=1)\n",
        "\n",
        "df_ptf['PTF_LOG_RET'] = compiled_weighted_log_ret_df['unconstrained_weights'].copy(deep=True)\n",
        "df_ptf['PTF_RET'] = np.exp(df_ptf['PTF_LOG_RET']) - 1\n",
        "\n",
        "df_ptf = df_ptf[df_ptf['Date'] >= '2020-02-01'].reset_index(drop=True)"
      ],
      "metadata": {
        "id": "LsyC1HgJqmci"
      },
      "execution_count": null,
      "outputs": []
    },
    {
      "cell_type": "markdown",
      "source": [
        "Compute returns"
      ],
      "metadata": {
        "id": "6kVVA6uGGxaa"
      }
    },
    {
      "cell_type": "code",
      "source": [
        "for ticker in tickers_to_pull:\n",
        "    df_ptf[f'{ticker}_RET'] = df_ptf[f'{ticker}_PRICE'] / df_ptf[f'{ticker}_PRICE'].shift(1) - 1\n",
        "    df_ptf[f'{ticker}_LOG_RET'] = np.log(df_ptf[f'{ticker}_PRICE'] / df_ptf[f'{ticker}_PRICE'].shift(1))"
      ],
      "metadata": {
        "id": "vFdbEi-ptGIS"
      },
      "execution_count": null,
      "outputs": []
    },
    {
      "cell_type": "markdown",
      "source": [
        "Compute technical indicators, Short & Long Term Moving Averages (STMA & LTMA)\n",
        "\n",
        "*   STMA: 5 Day Moving Average\n",
        "*   LTMA: 21 Day Moving Average\n",
        "\n"
      ],
      "metadata": {
        "id": "BM-VL59rRRsX"
      }
    },
    {
      "cell_type": "code",
      "source": [
        "tickers_to_trade = ['BTC-USD', 'ETH-USD']\n",
        "\n",
        "for ticker in tickers_to_trade:\n",
        "    df_ptf[f'{ticker}_STMA'] = df_ptf[f'{ticker}_PRICE'].rolling(5).mean()\n",
        "    df_ptf[f'{ticker}_LTMA'] = df_ptf[f'{ticker}_PRICE'].rolling(21).mean()\n",
        "\n",
        "df_ptf = df_ptf.reset_index(drop=True)"
      ],
      "metadata": {
        "id": "vZ3rDAskRWW8"
      },
      "execution_count": null,
      "outputs": []
    },
    {
      "cell_type": "markdown",
      "source": [
        "Identify trading postions and signals for each ticker"
      ],
      "metadata": {
        "id": "Csjrvk7SSXNG"
      }
    },
    {
      "cell_type": "code",
      "source": [
        "for ticker in tickers_to_trade:\n",
        "    df_ptf[f'{ticker}_POS'] = np.where(df_ptf[f'{ticker}_STMA'] > df_ptf[f'{ticker}_LTMA'], 1, -1)\n",
        "    df_ptf[f'{ticker}_SIGNAL'] = df_ptf[f'{ticker}_POS'].diff()\n",
        "\n",
        "df_ptf = df_ptf[(df_ptf['Date'] >= '2020-07-01') & ((df_ptf['Date'] <= '2021-01-31'))]\n",
        "df_ptf.reset_index(drop=True, inplace=True)"
      ],
      "metadata": {
        "id": "ovHoj9i5RvUM"
      },
      "execution_count": null,
      "outputs": []
    },
    {
      "cell_type": "markdown",
      "source": [
        "Visualise trading strategy"
      ],
      "metadata": {
        "id": "XRkRJ9SgUZRi"
      }
    },
    {
      "cell_type": "code",
      "source": [
        "plt.figure(figsize=(15, 5))\n",
        "\n",
        "plt.plot(df_ptf['BTC-USD_PRICE'] ,color='black', label='Price', linestyle='dashed')\n",
        "plt.plot(df_ptf['BTC-USD_STMA'], color='b', label='5 Day MA')\n",
        "plt.plot(df_ptf['BTC-USD_LTMA'], color='r', label='21 Day MA')\n",
        "\n",
        "plt.plot(df_ptf[df_ptf['BTC-USD_SIGNAL'] == 2].index,\n",
        "         df_ptf['BTC-USD_STMA'][df_ptf['BTC-USD_SIGNAL'] == 2],\n",
        "         '^', markersize = 15, color = 'g', label = 'Purchase Call')\n",
        "\n",
        "plt.plot(df_ptf[df_ptf['BTC-USD_SIGNAL'] == -2].index,\n",
        "         df_ptf['BTC-USD_STMA'][df_ptf['BTC-USD_SIGNAL'] == -2],\n",
        "         'v', markersize = 15, color = 'r', label = 'Purchase Put')\n",
        "\n",
        "plt.xlabel('Days')\n",
        "plt.ylabel('Price')\n",
        "plt.title('Bitcoin 5 vs 21 Day SMA, 2020-07-31 to 2021-01-31')\n",
        "plt.legend()\n",
        "plt.grid()\n",
        "plt.show()\n",
        "\n",
        "plt.figure(figsize=(15, 5))\n",
        "\n",
        "plt.plot(df_ptf['ETH-USD_PRICE'] ,color='black', label='Price', linestyle='dashed')\n",
        "plt.plot(df_ptf['ETH-USD_STMA'], color='b', label='5 Day MA')\n",
        "plt.plot(df_ptf['ETH-USD_LTMA'], color='r', label='21 Day MA')\n",
        "\n",
        "plt.plot(df_ptf[df_ptf['ETH-USD_SIGNAL'] == 2].index,\n",
        "         df_ptf['ETH-USD_STMA'][df_ptf['ETH-USD_SIGNAL'] == 2],\n",
        "         '^', markersize = 15, color = 'g', label = 'Purchase Call')\n",
        "\n",
        "plt.plot(df_ptf[df_ptf['ETH-USD_SIGNAL'] == -2].index,\n",
        "         df_ptf['ETH-USD_STMA'][df_ptf['ETH-USD_SIGNAL'] == -2],\n",
        "         'v', markersize = 15, color = 'r', label = 'Purchase Put')\n",
        "\n",
        "plt.xlabel('Days')\n",
        "plt.ylabel('Price')\n",
        "plt.title('Ether 5 vs 21 Day SMA, 2020-07-31 to 2021-01-31')\n",
        "plt.legend()\n",
        "plt.grid()\n",
        "plt.show()"
      ],
      "metadata": {
        "id": "ldVT2FtwWrA4"
      },
      "execution_count": null,
      "outputs": []
    },
    {
      "cell_type": "markdown",
      "source": [
        "Helper functions for simulation"
      ],
      "metadata": {
        "id": "G_nEofbCY8__"
      }
    },
    {
      "cell_type": "code",
      "source": [
        "def get_contract(contracts_df, execute_date):\n",
        "\n",
        "    _contracts = contracts_df[\n",
        "        (contracts_df['date'] == execute_date)\n",
        "        & (contracts_df['days_to_expiry'] > 0) # 0\n",
        "        & (contracts_df['days_to_expiry'] < 14) # 12\n",
        "    ].sort_values('days_to_expiry', ascending=False).reset_index(drop=True)\n",
        "\n",
        "    chosen_contract = _contracts.head(1) if len(_contracts) > 0 else pd.DataFrame()\n",
        "\n",
        "    return chosen_contract\n",
        "\n",
        "def _get_contract(contracts_df, execute_date, signal, S0):\n",
        "\n",
        "    if signal == 2:\n",
        "        _contracts = contracts_df[\n",
        "            (contracts_df['date'] == execute_date)\n",
        "            & (contracts_df['strike_price'] < S0)\n",
        "        ].sort_values('days_to_expiry', ascending=False).reset_index(drop=True)\n",
        "    else:\n",
        "        _contracts = contracts_df[\n",
        "            (contracts_df['date'] == execute_date)\n",
        "            & (contracts_df['strike_price'] > S0)\n",
        "        ].sort_values('days_to_expiry', ascending=False).reset_index(drop=True)\n",
        "\n",
        "    chosen_contract = _contracts.head(1) if len(_contracts) > 0 else pd.DataFrame()\n",
        "\n",
        "    return chosen_contract"
      ],
      "metadata": {
        "id": "O7xDFujeYFn7"
      },
      "execution_count": null,
      "outputs": []
    },
    {
      "cell_type": "markdown",
      "source": [
        "Prepare portfolio dataframe for simulation"
      ],
      "metadata": {
        "id": "UdrFSARhfMJO"
      }
    },
    {
      "cell_type": "code",
      "source": [
        "starting_ptf_value = 2500  # USD$10,000\n",
        "contracts = dict()\n",
        "\n",
        "df_ptf['PTF_MV'] = np.nan\n",
        "df_ptf.loc[0, 'PTF_MV'] = starting_ptf_value\n",
        "\n",
        "for ticker in tickers_to_pull:\n",
        "\n",
        "    # prepare contracts dictionary to track the options we purchase later\n",
        "    if ticker in tickers_to_trade:\n",
        "        contracts[ticker] = list()\n",
        "\n",
        "    # compute starting mv for each ticker\n",
        "    df_ptf.loc[0, f'{ticker}_MV'] = df_ptf.loc[0, f'{ticker}_WGT'] * starting_ptf_value"
      ],
      "metadata": {
        "id": "THWZsRLnegPO"
      },
      "execution_count": null,
      "outputs": []
    },
    {
      "cell_type": "markdown",
      "source": [
        "Prepare options contracts dataframes"
      ],
      "metadata": {
        "id": "UlEBxNsdmVpL"
      }
    },
    {
      "cell_type": "code",
      "source": [
        "options_df = clean_options_df(okex_options_trade_df)\n",
        "\n",
        "call_options_btc = options_df[\n",
        "    (options_df['underlying_asset'] == 'BTC-USD') & (options_df['contract_type'] == 'call')\n",
        "].reset_index(drop=True)\n",
        "\n",
        "call_options_eth = options_df[\n",
        "    (options_df['underlying_asset'] == 'ETH-USD') & (options_df['contract_type'] == 'call')\n",
        "].reset_index(drop=True)\n",
        "\n",
        "put_options_btc = options_df[\n",
        "    (options_df['underlying_asset'] == 'BTC-USD') & (options_df['contract_type'] == 'put')\n",
        "].reset_index(drop=True)\n",
        "\n",
        "put_options_eth = options_df[\n",
        "    (options_df['underlying_asset'] == 'ETH-USD') & (options_df['contract_type'] == 'put')\n",
        "].reset_index(drop=True)"
      ],
      "metadata": {
        "id": "IAphl2fIjed1"
      },
      "execution_count": null,
      "outputs": []
    },
    {
      "cell_type": "markdown",
      "source": [
        "Begin simulation for executing purchase of call and put contracts"
      ],
      "metadata": {
        "id": "Kby7JGcAZA-M"
      }
    },
    {
      "cell_type": "code",
      "source": [
        "# clear contracts dictionary before restarting simulations\n",
        "for k, v in contracts.items():\n",
        "    contracts[k] = list()\n",
        "\n",
        "df_strat = df_ptf.copy(deep=True)\n",
        "for idx in range(1, len(df_strat)):\n",
        "\n",
        "    curr_date = pd.to_datetime(df_strat.loc[idx, 'Date'])\n",
        "    prev_ptf_val, curr_ptf_val = df_strat.loc[idx - 1, 'PTF_MV'], df_strat.loc[idx, 'PTF_MV']\n",
        "    curr_btc_price, curr_eth_price = df_strat.loc[idx, 'BTC-USD_PRICE'], df_strat.loc[idx, 'ETH-USD_PRICE']\n",
        "    curr_prices = {\n",
        "        'BTC-USD': curr_btc_price,\n",
        "        'ETH-USD': curr_eth_price\n",
        "    }\n",
        "\n",
        "    profit_for_the_day = 0\n",
        "    # check if any contracts expire today\n",
        "    # if there are, compute the profit made for the day\n",
        "    for ticker in tickers_to_trade:\n",
        "        for c in contracts[ticker]:\n",
        "            if c.iloc[0]['expiration_date'] == curr_date:\n",
        "                S = curr_prices[ticker]\n",
        "                X = float(c['strike_price'])\n",
        "                qty = 1  # float(c['qty'])\n",
        "                if str(c.iloc[0]['contract_type']) == 'call':\n",
        "                    payoff = max((S - X) * qty, 0)\n",
        "                    profit_for_the_day += payoff\n",
        "                    print(f'Sold {ticker} call option contract on {curr_date}\\nPayoff: {payoff}\\n')\n",
        "                else:\n",
        "                    payoff = max((X - S) * qty, 0)\n",
        "                    profit_for_the_day += payoff\n",
        "                    print(f'Sold {ticker} put option contract on {curr_date}\\nPayoff: {payoff}\\n')\n",
        "\n",
        "    cost_for_the_day = 0\n",
        "    for ticker in tickers_to_trade:\n",
        "        trading_signal = df_strat.loc[idx, f'{ticker}_SIGNAL']\n",
        "        if trading_signal not in (2, -2):\n",
        "            continue\n",
        "        elif trading_signal == 2:\n",
        "            # get a call contract to be bought on that day\n",
        "            options_df = call_options_btc if ticker == 'BTC-USD' else call_options_eth\n",
        "        elif trading_signal == -2:\n",
        "            options_df = put_options_btc if ticker == 'BTC-USD' else put_options_eth\n",
        "        chosen_contract = get_contract(options_df, curr_date)\n",
        "        # check if we can afford the contract\n",
        "        if chosen_contract.empty:\n",
        "            print(f'No {ticker} contract for given criteria on {curr_date}.\\nSignal = {trading_signal}\\n')\n",
        "        else:\n",
        "            price, qty = chosen_contract.iloc[0]['price'], 1  # int(chosen_contract.iloc[0]['qty'])\n",
        "            chosen_contract_price = price * qty * curr_prices[ticker]\n",
        "            if prev_ptf_val < chosen_contract_price:\n",
        "                print(f'Could not afford contract given portfolio market value on {curr_date}.')\n",
        "                print(f'Signal = {trading_signal}\\n')\n",
        "            else:\n",
        "                # store the contract in our inventory\n",
        "                contracts[ticker].append(chosen_contract)\n",
        "                chosen_contract_type = str(chosen_contract.iloc[0][\"contract_type\"])\n",
        "                print(f'Purchased {ticker} {chosen_contract_type} option contract on {curr_date}')\n",
        "                print(f'Cost: {chosen_contract_price}\\n')\n",
        "                # add it to our costs for the day\n",
        "                cost_for_the_day += chosen_contract_price\n",
        "\n",
        "    # update overall market value for the day\n",
        "    curr_ptf_ret = 1 + df_strat.loc[idx, 'PTF_RET']\n",
        "    curr_ptf_val = prev_ptf_val * curr_ptf_ret + profit_for_the_day - cost_for_the_day\n",
        "    df_strat.loc[idx, 'PTF_MV'] = curr_ptf_val\n",
        "\n",
        "    # update market values for each individual ticker\n",
        "    for ticker in tickers_to_pull:\n",
        "        df_strat.loc[idx, f'{ticker}_MV'] = df_strat.loc[idx, 'PTF_MV'] * df_strat.loc[idx, f'{ticker}_WGT']"
      ],
      "metadata": {
        "id": "YJubnzFNZCk3"
      },
      "execution_count": null,
      "outputs": []
    },
    {
      "cell_type": "code",
      "source": [
        "# clear contracts dictionary before restarting simulations\n",
        "for k, v in contracts.items():\n",
        "    contracts[k] = list()\n",
        "\n",
        "df_strat2 = df_ptf.copy(deep=True)\n",
        "for idx in range(1, len(df_strat2)):\n",
        "\n",
        "    curr_date = pd.to_datetime(df_strat2.loc[idx, 'Date'])\n",
        "    prev_ptf_val, curr_ptf_val = df_strat2.loc[idx - 1, 'PTF_MV'], df_strat2.loc[idx, 'PTF_MV']\n",
        "    curr_btc_price, curr_eth_price = df_strat2.loc[idx, 'BTC-USD_PRICE'], df_strat2.loc[idx, 'ETH-USD_PRICE']\n",
        "    curr_prices = {\n",
        "        'BTC-USD': curr_btc_price,\n",
        "        'ETH-USD': curr_eth_price\n",
        "    }\n",
        "\n",
        "    profit_for_the_day = 0\n",
        "    # check if any contracts expire today\n",
        "    # if there are, compute the profit made for the day\n",
        "    for ticker in tickers_to_trade:\n",
        "        for c in contracts[ticker]:\n",
        "            if c.iloc[0]['expiration_date'] == curr_date:\n",
        "                S = curr_prices[ticker]\n",
        "                X = float(c['strike_price'])\n",
        "                qty = 1  # float(c['qty'])\n",
        "                if str(c.iloc[0]['contract_type']) == 'call':\n",
        "                    payoff = max((S - X) * qty, 0)\n",
        "                    profit_for_the_day += payoff\n",
        "                    print(f'Sold {ticker} call option contract on {curr_date}\\nPayoff: {payoff}\\n')\n",
        "                else:\n",
        "                    payoff = max((X - S) * qty, 0)\n",
        "                    profit_for_the_day += payoff\n",
        "                    print(f'Sold {ticker} put option contract on {curr_date}\\nPayoff: {payoff}\\n')\n",
        "\n",
        "    cost_for_the_day = 0\n",
        "    for ticker in tickers_to_trade:\n",
        "        trading_signal = df_strat2.loc[idx, f'{ticker}_SIGNAL']\n",
        "        if trading_signal not in (2, -2):\n",
        "            continue\n",
        "        elif trading_signal == 2:\n",
        "            # get a call contract to be bought on that day\n",
        "            options_df = call_options_btc if ticker == 'BTC-USD' else call_options_eth\n",
        "        elif trading_signal == -2:\n",
        "            options_df = put_options_btc if ticker == 'BTC-USD' else put_options_eth\n",
        "        chosen_contract = _get_contract(options_df, curr_date, trading_signal, curr_prices[ticker])\n",
        "        # check if we can afford the contract\n",
        "        if chosen_contract.empty:\n",
        "            print(f'No {ticker} contract for given criteria on {curr_date}.\\nSignal = {trading_signal}\\n')\n",
        "        else:\n",
        "            price, qty = chosen_contract.iloc[0]['price'], 1  # int(chosen_contract.iloc[0]['qty'])\n",
        "            chosen_contract_price = price * qty * curr_prices[ticker]\n",
        "            if prev_ptf_val < chosen_contract_price:\n",
        "                print(f'Could not afford contract given portfolio market value on {curr_date}.')\n",
        "                print(f'Signal = {trading_signal}\\n')\n",
        "            else:\n",
        "                # store the contract in our inventory\n",
        "                contracts[ticker].append(chosen_contract)\n",
        "                chosen_contract_type = str(chosen_contract.iloc[0][\"contract_type\"])\n",
        "                print(f'Purchased {ticker} {chosen_contract_type} option contract on {curr_date}')\n",
        "                print(f'Cost: {chosen_contract_price}\\n')\n",
        "                # add it to our costs for the day\n",
        "                cost_for_the_day += chosen_contract_price\n",
        "\n",
        "    # update overall market value for the day\n",
        "    curr_ptf_ret = 1 + df_strat2.loc[idx, 'PTF_RET']\n",
        "    curr_ptf_val = prev_ptf_val * curr_ptf_ret + profit_for_the_day - cost_for_the_day\n",
        "    df_strat2.loc[idx, 'PTF_MV'] = curr_ptf_val\n",
        "\n",
        "    # update market values for each individual ticker\n",
        "    for ticker in tickers_to_pull:\n",
        "        df_strat2.loc[idx, f'{ticker}_MV'] = df_strat2.loc[idx, 'PTF_MV'] * df_strat2.loc[idx, f'{ticker}_WGT']"
      ],
      "metadata": {
        "id": "z02jKhttn9YV"
      },
      "execution_count": null,
      "outputs": []
    },
    {
      "cell_type": "markdown",
      "source": [
        "Portfolio with no trading strategy"
      ],
      "metadata": {
        "id": "uiNvAgY9hD-m"
      }
    },
    {
      "cell_type": "code",
      "source": [
        "# clear contracts dictionary before restarting simulations\n",
        "for k, v in contracts.items():\n",
        "    contracts[k] = list()\n",
        "\n",
        "df_no_strat = df_ptf.copy(deep=True)\n",
        "for idx in range(1, len(df_no_strat)):\n",
        "\n",
        "    prev_ptf_val = df_no_strat.loc[idx - 1, 'PTF_MV']\n",
        "    curr_btc_price, curr_eth_price = df_no_strat.loc[idx, 'BTC-USD_PRICE'], df_no_strat.loc[idx, 'ETH-USD_PRICE']\n",
        "\n",
        "    # update overall market value for the day\n",
        "    curr_ptf_ret = 1 + df_no_strat.loc[idx, 'PTF_RET']\n",
        "    curr_ptf_val = prev_ptf_val * curr_ptf_ret + profit_for_the_day - cost_for_the_day\n",
        "    df_no_strat.loc[idx, 'PTF_MV'] = curr_ptf_val\n",
        "\n",
        "    # update market values for each individual ticker\n",
        "    for ticker in tickers_to_pull:\n",
        "        df_no_strat.loc[idx, f'{ticker}_MV'] = df_no_strat.loc[idx, 'PTF_MV'] * df_no_strat.loc[idx, f'{ticker}_WGT']"
      ],
      "metadata": {
        "id": "wMOVSTxdYZOW"
      },
      "execution_count": null,
      "outputs": []
    },
    {
      "cell_type": "code",
      "source": [
        "df_no_strat['test_ret'] = df_no_strat['PTF_MV'] / df_no_strat['PTF_MV'].shift(1) - 1\n",
        "no_strat_ret = df_no_strat['test_ret'].mean() * 365\n",
        "no_strat_vol = df_no_strat['test_ret'].std() * 365**0.5\n",
        "no_strat_sr = no_strat_ret / no_strat_vol\n",
        "\n",
        "df_strat['test_ret'] = df_strat['PTF_MV'] / df_strat['PTF_MV'].shift(1) - 1\n",
        "strat_ret = df_strat['test_ret'].mean() * 365\n",
        "strat_vol = df_strat['test_ret'].std() * 365**0.5\n",
        "strat_sr = strat_ret / strat_vol\n",
        "\n",
        "df_strat2['test_ret'] = df_strat2['PTF_MV'] / df_strat2['PTF_MV'].shift(1) - 1\n",
        "strat2_ret = df_strat2['test_ret'].mean() * 365\n",
        "strat2_vol = df_strat2['test_ret'].std() * 365**0.5\n",
        "strat2_sr = strat_ret / strat_vol\n",
        "\n",
        "print('-' * 24)\n",
        "print('  No Strategy Portfolio')\n",
        "print('-' * 24)\n",
        "print(f'Returns        {round(no_strat_ret, 7)}')\n",
        "print(f'Volatility     {round(no_strat_vol, 7)}')\n",
        "print(f'Sharpe Ratio   {round(no_strat_sr, 7)}')\n",
        "print('-' * 24)\n",
        "print('  Strategy Portfolio')\n",
        "print('-' * 24)\n",
        "print(f'Returns        {round(strat_ret, 7)}')\n",
        "print(f'Volatility     {round(strat_vol, 7)}')\n",
        "print(f'Sharpe Ratio   {round(strat_sr, 7)}')\n",
        "print('-' * 24)\n",
        "print(' Strategy Portfolio (2)')\n",
        "print('-' * 24)\n",
        "print(f'Returns        {round(strat2_ret, 7)}')\n",
        "print(f'Volatility     {round(strat2_vol, 7)}')\n",
        "print(f'Sharpe Ratio   {round(strat2_sr, 7)}')"
      ],
      "metadata": {
        "id": "G5OnIIhBiLPS"
      },
      "execution_count": null,
      "outputs": []
    },
    {
      "cell_type": "code",
      "source": [],
      "metadata": {
        "id": "U1MCRWOQkLTv"
      },
      "execution_count": null,
      "outputs": []
    }
  ]
}